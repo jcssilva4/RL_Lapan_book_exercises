{
  "nbformat": 4,
  "nbformat_minor": 0,
  "metadata": {
    "colab": {
      "name": "basic_OpenAIgym_setup.ipynb",
      "provenance": [],
      "collapsed_sections": [],
      "authorship_tag": "ABX9TyP+pPvMnBzEBxsO6oao7BFe",
      "include_colab_link": true
    },
    "kernelspec": {
      "name": "python3",
      "display_name": "Python 3"
    },
    "language_info": {
      "name": "python"
    }
  },
  "cells": [
    {
      "cell_type": "markdown",
      "metadata": {
        "id": "view-in-github",
        "colab_type": "text"
      },
      "source": [
        "<a href=\"https://colab.research.google.com/github/jcssilva4/RL_Lapan_book_exercises/blob/main/basic_OpenAIgym_setup.ipynb\" target=\"_parent\"><img src=\"https://colab.research.google.com/assets/colab-badge.svg\" alt=\"Open In Colab\"/></a>"
      ]
    },
    {
      "cell_type": "code",
      "metadata": {
        "colab": {
          "base_uri": "https://localhost:8080/"
        },
        "id": "4Wa4j2bPF63q",
        "outputId": "1c537bf5-e039-4191-f1cd-d4d59f1c007f"
      },
      "source": [
        "!pip install gym pyvirtualdisplay > /dev/null 2>&1\n",
        "!apt-get install -y xvfb python-opengl ffmpeg > /dev/null 2>&1\n",
        "\n",
        "!git clone https://github.com/openai/gym.git\n",
        "%cd gym\n",
        "!pip install -e .\n",
        "%cd .."
      ],
      "execution_count": 1,
      "outputs": [
        {
          "output_type": "stream",
          "text": [
            "Cloning into 'gym'...\n",
            "remote: Enumerating objects: 10880, done.\u001b[K\n",
            "remote: Counting objects: 100% (28/28), done.\u001b[K\n",
            "remote: Compressing objects: 100% (17/17), done.\u001b[K\n",
            "remote: Total 10880 (delta 12), reused 19 (delta 10), pack-reused 10852\u001b[K\n",
            "Receiving objects: 100% (10880/10880), 4.17 MiB | 11.09 MiB/s, done.\n",
            "Resolving deltas: 100% (7364/7364), done.\n",
            "/content/gym\n",
            "Obtaining file:///content/gym\n",
            "Requirement already satisfied: scipy in /usr/local/lib/python3.7/dist-packages (from gym==0.18.0) (1.4.1)\n",
            "Requirement already satisfied: numpy>=1.10.4 in /usr/local/lib/python3.7/dist-packages (from gym==0.18.0) (1.19.5)\n",
            "Requirement already satisfied: pyglet<=1.5.15,>=1.4.0 in /usr/local/lib/python3.7/dist-packages (from gym==0.18.0) (1.5.0)\n",
            "Requirement already satisfied: Pillow<=8.2.0 in /usr/local/lib/python3.7/dist-packages (from gym==0.18.0) (7.1.2)\n",
            "Requirement already satisfied: cloudpickle<1.7.0,>=1.2.0 in /usr/local/lib/python3.7/dist-packages (from gym==0.18.0) (1.3.0)\n",
            "Requirement already satisfied: future in /usr/local/lib/python3.7/dist-packages (from pyglet<=1.5.15,>=1.4.0->gym==0.18.0) (0.16.0)\n",
            "Installing collected packages: gym\n",
            "  Attempting uninstall: gym\n",
            "    Found existing installation: gym 0.17.3\n",
            "    Uninstalling gym-0.17.3:\n",
            "      Successfully uninstalled gym-0.17.3\n",
            "  Running setup.py develop for gym\n",
            "Successfully installed gym-0.18.0\n",
            "/content\n"
          ],
          "name": "stdout"
        }
      ]
    },
    {
      "cell_type": "code",
      "metadata": {
        "id": "C83b0XB5GeAU"
      },
      "source": [
        "# reinitialize the exec env\n",
        "import gym\n",
        "from gym.wrappers import Monitor\n",
        "import glob\n",
        "import io\n",
        "import base64\n",
        "from IPython.display import HTML\n",
        "from pyvirtualdisplay import Display\n",
        "from IPython import display as ipythondisplay\n",
        "\n",
        "display = Display(visible=0, size=(1400, 900))\n",
        "display.start()\n",
        "\n",
        "\"\"\"\n",
        "Utility functions to enable video recording of gym environment \n",
        "and displaying it.\n",
        "To enable video, just do \"env = wrap_env(env)\"\"\n",
        "\"\"\"\n",
        "\n",
        "def show_video():\n",
        "  mp4list = glob.glob('video/*.mp4')\n",
        "  if len(mp4list) > 0:\n",
        "    mp4 = mp4list[0]\n",
        "    video = io.open(mp4, 'r+b').read()\n",
        "    encoded = base64.b64encode(video)\n",
        "    ipythondisplay.display(HTML(data='''<video alt=\"test\" autoplay \n",
        "                loop controls style=\"height: 400px;\">\n",
        "                <source src=\"data:video/mp4;base64,{0}\" type=\"video/mp4\" />\n",
        "             </video>'''.format(encoded.decode('ascii'))))\n",
        "  else: \n",
        "    print(\"Could not find video\")\n",
        "    \n",
        "\n",
        "def wrap_env(env):\n",
        "  env = Monitor(env, './video', force=True)\n",
        "  return env"
      ],
      "execution_count": 1,
      "outputs": []
    },
    {
      "cell_type": "code",
      "metadata": {
        "colab": {
          "base_uri": "https://localhost:8080/",
          "height": 421
        },
        "id": "Uwm3Q-oAGpy4",
        "outputId": "92deb752-423c-48b0-d441-e32de389c037"
      },
      "source": [
        "env = wrap_env(gym.make(\"CartPole-v1\"))\n",
        "observation = env.reset()\n",
        "for i in range(10):\n",
        "  for j in range(1000):\n",
        "    env.render()\n",
        "    action = env.action_space.sample() # your agent here (this takes random actions)\n",
        "    observation, reward, done, info = env.step(action)\n",
        "\n",
        "    if done:\n",
        "      observation = env.reset()\n",
        "\n",
        "env.close()\n",
        "show_video()"
      ],
      "execution_count": 6,
      "outputs": [
        {
          "output_type": "display_data",
          "data": {
            "text/html": [
              "<video alt=\"test\" autoplay \n",
              "                loop controls style=\"height: 400px;\">\n",
              "                <source src=\"data:video/mp4;base64,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\" type=\"video/mp4\" />\n",
              "             </video>"
            ],
            "text/plain": [
              "<IPython.core.display.HTML object>"
            ]
          },
          "metadata": {
            "tags": []
          }
        }
      ]
    }
  ]
}