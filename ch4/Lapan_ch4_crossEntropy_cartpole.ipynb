{
  "nbformat": 4,
  "nbformat_minor": 0,
  "metadata": {
    "colab": {
      "name": "Lapan_ch4_crossEntropy.ipynb",
      "provenance": [],
      "collapsed_sections": []
    },
    "kernelspec": {
      "name": "python3",
      "display_name": "Python 3"
    },
    "language_info": {
      "name": "python"
    }
  },
  "cells": [
    {
      "cell_type": "code",
      "metadata": {
        "colab": {
          "base_uri": "https://localhost:8080/"
        },
        "id": "4Wa4j2bPF63q",
        "outputId": "8b2d4836-53ca-4ae4-fa1c-a1eca4387f8c"
      },
      "source": [
        "!pip install gym pyvirtualdisplay > /dev/null 2>&1\n",
        "!apt-get install -y xvfb python-opengl ffmpeg > /dev/null 2>&1\n",
        "\n",
        "!git clone https://github.com/openai/gym.git\n",
        "%cd gym\n",
        "!pip install -e .\n",
        "%cd .."
      ],
      "execution_count": 4,
      "outputs": [
        {
          "output_type": "stream",
          "text": [
            "fatal: destination path 'gym' already exists and is not an empty directory.\n",
            "/content/gym\n",
            "Obtaining file:///content/gym\n",
            "Requirement already satisfied: scipy in /usr/local/lib/python3.7/dist-packages (from gym==0.18.0) (1.4.1)\n",
            "Requirement already satisfied: numpy>=1.10.4 in /usr/local/lib/python3.7/dist-packages (from gym==0.18.0) (1.19.5)\n",
            "Requirement already satisfied: pyglet<=1.5.15,>=1.4.0 in /usr/local/lib/python3.7/dist-packages (from gym==0.18.0) (1.5.0)\n",
            "Requirement already satisfied: Pillow<=8.2.0 in /usr/local/lib/python3.7/dist-packages (from gym==0.18.0) (7.1.2)\n",
            "Requirement already satisfied: cloudpickle<1.7.0,>=1.2.0 in /usr/local/lib/python3.7/dist-packages (from gym==0.18.0) (1.3.0)\n",
            "Requirement already satisfied: future in /usr/local/lib/python3.7/dist-packages (from pyglet<=1.5.15,>=1.4.0->gym==0.18.0) (0.16.0)\n",
            "Installing collected packages: gym\n",
            "  Attempting uninstall: gym\n",
            "    Found existing installation: gym 0.18.0\n",
            "    Can't uninstall 'gym'. No files were found to uninstall.\n",
            "  Running setup.py develop for gym\n",
            "Successfully installed gym-0.18.0\n",
            "/content\n"
          ],
          "name": "stdout"
        }
      ]
    },
    {
      "cell_type": "code",
      "metadata": {
        "id": "C83b0XB5GeAU"
      },
      "source": [
        "# reinitialize the exec env\n",
        "import gym\n",
        "from gym.wrappers import Monitor\n",
        "import glob\n",
        "import io\n",
        "import base64\n",
        "from IPython.display import HTML\n",
        "from pyvirtualdisplay import Display\n",
        "from IPython import display as ipythondisplay\n",
        "\n",
        "display = Display(visible=0, size=(1400, 900))\n",
        "display.start()\n",
        "\n",
        "\"\"\"\n",
        "Utility functions to enable video recording of gym environment \n",
        "and displaying it.\n",
        "To enable video, just do \"env = wrap_env(env)\"\"\n",
        "\"\"\"\n",
        "\n",
        "def show_video():\n",
        "  mp4list = glob.glob('video/*.mp4')\n",
        "  if len(mp4list) > 0:\n",
        "    mp4 = mp4list[0]\n",
        "    video = io.open(mp4, 'r+b').read()\n",
        "    encoded = base64.b64encode(video)\n",
        "    ipythondisplay.display(HTML(data='''<video alt=\"test\" autoplay \n",
        "                loop controls style=\"height: 400px;\">\n",
        "                <source src=\"data:video/mp4;base64,{0}\" type=\"video/mp4\" />\n",
        "             </video>'''.format(encoded.decode('ascii'))))\n",
        "  else: \n",
        "    print(\"Could not find video\")\n",
        "    \n",
        "\n",
        "def wrap_env(env):\n",
        "  env = Monitor(env, './video', force=True)\n",
        "  return env"
      ],
      "execution_count": 4,
      "outputs": []
    },
    {
      "cell_type": "markdown",
      "metadata": {
        "id": "y1pWVDb53spg"
      },
      "source": [
        "**Agente** (Rede neural com uma única camada escondida de 128 neurônios)"
      ]
    },
    {
      "cell_type": "code",
      "metadata": {
        "id": "5_INIGAs3qIv"
      },
      "source": [
        "from torch import nn\n",
        "\n",
        "class Net(nn.Module):\n",
        "  def __init__(self, obs_size, hidden_size, n_actions):\n",
        "    super(Net, self).__init__()\n",
        "    self.net = nn.Sequential(\n",
        "      nn.Linear(obs_size, hidden_size),\n",
        "      nn.ReLU(),\n",
        "      nn.Linear(hidden_size, n_actions)\n",
        "    )\n",
        "  def forward(self, x):\n",
        "    return self.net(x)"
      ],
      "execution_count": 5,
      "outputs": []
    },
    {
      "cell_type": "markdown",
      "metadata": {
        "id": "5IAPersy5Api"
      },
      "source": [
        "Função que irá gerar batches com episódios"
      ]
    },
    {
      "cell_type": "code",
      "metadata": {
        "id": "IYOzaTSY4_WK"
      },
      "source": [
        "def iterate_batches(env, net, batch_size):\n",
        "  batch = []\n",
        "  episode_reward = 0.0\n",
        "  episode_steps = []\n",
        "  obs = env.reset()\n",
        "  sm = nn.Softmax(dim=1)\n",
        "  while True:\n",
        "    obs_v = torch.FloatTensor([obs])\n",
        "    act_probs_v = sm(net(obs_v))\n",
        "    act_probs = act_probs_v.data.numpy()[0]\n",
        "    action = np.random.choice(len(act_probs), p=act_probs)\n",
        "    next_obs, reward, done, _ = env.step(action)\n",
        "    episode_reward += reward\n",
        "    step = EpisodeStep(observation=obs,action=action)\n",
        "    episode_steps.append(step)\n",
        "\n",
        "    if done:\n",
        "      e = Episode(reward=episode_reward,steps=episode_steps)\n",
        "      batch.append(e)\n",
        "      episode_reward = 0.0\n",
        "      episode_steps = []\n",
        "      next_obs = env.reset()\n",
        "\n",
        "    if len(batch) == batch_size:\n",
        "      yield batch\n",
        "      batch = []\n",
        "      \n",
        "    obs = next_obs"
      ],
      "execution_count": 6,
      "outputs": []
    },
    {
      "cell_type": "markdown",
      "metadata": {
        "id": "awSwQDV7-bcR"
      },
      "source": [
        "Função que irá filtrar episódios \"elite\", com recompensas acima de um limiar obtido por um determinado percentil das recompensas acumuladas de todos os episódios"
      ]
    },
    {
      "cell_type": "code",
      "metadata": {
        "id": "khAbXsJM-ZKr"
      },
      "source": [
        "from collections import namedtuple\n",
        "\n",
        "Episode = namedtuple('Episode', field_names=['reward', 'steps'])\n",
        "EpisodeStep = namedtuple('EpisodeStep',field_names=['observation', 'action'])\n",
        "\n",
        "def filter_batch(batch, percentile):\n",
        "  rewards = list(map(lambda s: s.reward, batch))\n",
        "  reward_bound = np.percentile(rewards, percentile)\n",
        "  reward_mean = float(np.mean(rewards))\n",
        "\n",
        "  train_obs = []\n",
        "  train_act = []\n",
        "  for reward, steps in batch:\n",
        "    if reward < reward_bound:\n",
        "      continue\n",
        "    train_obs.extend(map(lambda step: step.observation,steps))\n",
        "    train_act.extend(map(lambda step: step.action, steps))\n",
        "\n",
        "  train_obs_v = torch.FloatTensor(train_obs)\n",
        "  train_act_v = torch.LongTensor(train_act)\n",
        "  return train_obs_v, train_act_v, reward_bound, reward_mean"
      ],
      "execution_count": 7,
      "outputs": []
    },
    {
      "cell_type": "code",
      "metadata": {
        "colab": {
          "base_uri": "https://localhost:8080/"
        },
        "id": "Uwm3Q-oAGpy4",
        "outputId": "0673b54a-0026-4611-e373-26871e9ddaad"
      },
      "source": [
        "import torch\n",
        "import numpy as np\n",
        "from torch import optim\n",
        "\n",
        "HIDDEN_SIZE = 128\n",
        "BATCH_SIZE = 16\n",
        "PERCENTILE = 70\n",
        "\n",
        "env = gym.make(\"CartPole-v0\")\n",
        "obs_size = env.observation_space.shape[0]\n",
        "n_actions = env.action_space.n\n",
        "net = Net(obs_size, HIDDEN_SIZE, n_actions)\n",
        "objective = nn.CrossEntropyLoss()\n",
        "optimizer = optim.Adam(params=net.parameters(), lr=0.01)\n",
        "\n",
        "for iter_no, batch in enumerate(iterate_batches(env, net,BATCH_SIZE)):\n",
        "  obs_v, acts_v, reward_b, reward_m = filter_batch(batch, PERCENTILE)\n",
        "  optimizer.zero_grad()\n",
        "  action_scores_v = net(obs_v)\n",
        "  loss_v = objective(action_scores_v, acts_v)\n",
        "  loss_v.backward()\n",
        "  optimizer.step()\n",
        "  print(\"%d: loss=%.3f, reward_mean=%.1f, rw_bound=%.1f\" % (iter_no, loss_v.item(), reward_m, reward_b))\n",
        "  if reward_m > 199:\n",
        "    print(\"Solved!\")\n",
        "    break\n"
      ],
      "execution_count": 20,
      "outputs": [
        {
          "output_type": "stream",
          "text": [
            "0: loss=0.690, reward_mean=16.5, rw_bound=16.5\n",
            "1: loss=0.687, reward_mean=20.7, rw_bound=21.5\n",
            "2: loss=0.674, reward_mean=24.8, rw_bound=28.0\n",
            "3: loss=0.658, reward_mean=33.2, rw_bound=44.0\n",
            "4: loss=0.642, reward_mean=31.9, rw_bound=34.0\n",
            "5: loss=0.635, reward_mean=33.9, rw_bound=36.0\n",
            "6: loss=0.631, reward_mean=55.5, rw_bound=65.0\n",
            "7: loss=0.626, reward_mean=44.9, rw_bound=53.0\n",
            "8: loss=0.610, reward_mean=55.0, rw_bound=64.5\n",
            "9: loss=0.621, reward_mean=56.9, rw_bound=66.5\n",
            "10: loss=0.624, reward_mean=55.8, rw_bound=63.0\n",
            "11: loss=0.602, reward_mean=67.3, rw_bound=78.5\n",
            "12: loss=0.602, reward_mean=75.1, rw_bound=90.0\n",
            "13: loss=0.597, reward_mean=65.8, rw_bound=77.0\n",
            "14: loss=0.575, reward_mean=71.9, rw_bound=75.0\n",
            "15: loss=0.585, reward_mean=73.2, rw_bound=86.0\n",
            "16: loss=0.581, reward_mean=78.4, rw_bound=88.0\n",
            "17: loss=0.575, reward_mean=97.5, rw_bound=105.0\n",
            "18: loss=0.565, reward_mean=94.4, rw_bound=102.5\n",
            "19: loss=0.576, reward_mean=83.7, rw_bound=106.5\n",
            "20: loss=0.574, reward_mean=83.1, rw_bound=89.0\n",
            "21: loss=0.570, reward_mean=98.6, rw_bound=121.5\n",
            "22: loss=0.578, reward_mean=95.9, rw_bound=115.5\n",
            "23: loss=0.547, reward_mean=129.0, rw_bound=157.0\n",
            "24: loss=0.545, reward_mean=145.2, rw_bound=200.0\n",
            "25: loss=0.549, reward_mean=111.7, rw_bound=133.5\n",
            "26: loss=0.537, reward_mean=146.9, rw_bound=194.5\n",
            "27: loss=0.553, reward_mean=142.6, rw_bound=172.5\n",
            "28: loss=0.546, reward_mean=163.5, rw_bound=200.0\n",
            "29: loss=0.530, reward_mean=167.1, rw_bound=198.0\n",
            "30: loss=0.546, reward_mean=179.5, rw_bound=200.0\n",
            "31: loss=0.526, reward_mean=171.8, rw_bound=200.0\n",
            "32: loss=0.510, reward_mean=161.2, rw_bound=188.5\n",
            "33: loss=0.537, reward_mean=171.9, rw_bound=200.0\n",
            "34: loss=0.515, reward_mean=187.3, rw_bound=200.0\n",
            "35: loss=0.516, reward_mean=179.1, rw_bound=200.0\n",
            "36: loss=0.524, reward_mean=189.6, rw_bound=200.0\n",
            "37: loss=0.517, reward_mean=189.2, rw_bound=200.0\n",
            "38: loss=0.512, reward_mean=186.9, rw_bound=200.0\n",
            "39: loss=0.509, reward_mean=200.0, rw_bound=200.0\n",
            "Solved!\n"
          ],
          "name": "stdout"
        }
      ]
    },
    {
      "cell_type": "markdown",
      "metadata": {
        "id": "wat9VH9O8M_b"
      },
      "source": [
        "Agora Podemos ver o agente treinado em ação"
      ]
    },
    {
      "cell_type": "code",
      "metadata": {
        "colab": {
          "base_uri": "https://localhost:8080/",
          "height": 421
        },
        "id": "3flpQyuB8L4q",
        "outputId": "da712af8-e869-46e2-beef-b8f0af6cce07"
      },
      "source": [
        "env = wrap_env(gym.make(\"CartPole-v0\"))\n",
        "observation = env.reset()\n",
        "sm = nn.Softmax(dim=1)\n",
        "for i in range(1):\n",
        "  done = False\n",
        "  while not done:\n",
        "    env.render()\n",
        "    obs_v = torch.FloatTensor([observation])\n",
        "    act_probs_v = sm(net(obs_v))\n",
        "    act_probs = act_probs_v.data.numpy()[0]\n",
        "    action = np.random.choice(len(act_probs), p=act_probs)\n",
        "    observation, reward, done, info = env.step(action)     \n",
        "    #if done:\n",
        "    #    observation = env.reset() \n",
        "\n",
        "env.close()\n",
        "show_video()"
      ],
      "execution_count": 23,
      "outputs": [
        {
          "output_type": "display_data",
          "data": {
            "text/html": [
              "<video alt=\"test\" autoplay \n",
              "                loop controls style=\"height: 400px;\">\n",
              "                <source src=\"data:video/mp4;base64,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\" type=\"video/mp4\" />\n",
              "             </video>"
            ],
            "text/plain": [
              "<IPython.core.display.HTML object>"
            ]
          },
          "metadata": {
            "tags": []
          }
        }
      ]
    },
    {
      "cell_type": "markdown",
      "metadata": {
        "id": "o31VRr6VX-9a"
      },
      "source": [
        "Agente com politica aleatória"
      ]
    },
    {
      "cell_type": "code",
      "metadata": {
        "colab": {
          "base_uri": "https://localhost:8080/",
          "height": 421
        },
        "id": "uxJWUupNX6Uj",
        "outputId": "e06132db-a5ed-4381-f870-8274e806acc1"
      },
      "source": [
        "env = wrap_env(gym.make(\"CartPole-v0\"))\n",
        "observation = env.reset()\n",
        "for i in range(1):\n",
        "  done = False\n",
        "  while not done:\n",
        "    env.render()\n",
        "    action = env.action_space.sample()\n",
        "    observation, reward, done, info = env.step(action)     \n",
        "    #if done:\n",
        "    #    observation = env.reset() \n",
        "\n",
        "env.close()\n",
        "show_video()"
      ],
      "execution_count": 24,
      "outputs": [
        {
          "output_type": "display_data",
          "data": {
            "text/html": [
              "<video alt=\"test\" autoplay \n",
              "                loop controls style=\"height: 400px;\">\n",
              "                <source src=\"data:video/mp4;base64,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\" type=\"video/mp4\" />\n",
              "             </video>"
            ],
            "text/plain": [
              "<IPython.core.display.HTML object>"
            ]
          },
          "metadata": {
            "tags": []
          }
        }
      ]
    }
  ]
}